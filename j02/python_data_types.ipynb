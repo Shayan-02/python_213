{
 "cells": [
  {
   "cell_type": "markdown",
   "id": "832369e6",
   "metadata": {},
   "source": [
    "# مقدمه‌ای بر داده‌نوع‌ها در پایتون"
   ]
  },
  {
   "cell_type": "markdown",
   "id": "d4f4c145",
   "metadata": {},
   "source": [
    "\n",
    "در پایتون، داده‌نوع‌ها ساختارهای مختلفی برای ذخیره‌سازی داده‌ها هستند. درک داده‌نوع‌ها به شما کمک می‌کند تا بتوانید از پایتون به بهترین شکل استفاده کنید.\n"
   ]
  },
  {
   "cell_type": "markdown",
   "id": "39cc6cfe",
   "metadata": {},
   "source": [
    "# داده‌نوع‌های اصلی در پایتون"
   ]
  },
  {
   "cell_type": "markdown",
   "id": "3548d447",
   "metadata": {},
   "source": [
    "\n",
    "در پایتون، داده‌نوع‌های اصلی عبارتند از:\n",
    "\n",
    "- **عدد صحیح (int)**\n",
    "- **عدد اعشاری (float)**\n",
    "- **رشته‌ها (str)**\n",
    "- **لیست‌ها (list)**\n",
    "- **تاپل‌ها (tuple)**\n",
    "- **دیکشنری‌ها (dict)**\n",
    "- **مجموعه‌ها (set)**\n",
    "- **بولین‌ها (bool)**\n"
   ]
  },
  {
   "cell_type": "markdown",
   "id": "785a5a0a",
   "metadata": {},
   "source": [
    "# داده‌نوع `int`"
   ]
  },
  {
   "cell_type": "code",
   "execution_count": 9,
   "id": "9b43d46a",
   "metadata": {},
   "outputs": [
    {
     "name": "stdout",
     "output_type": "stream",
     "text": [
      "10 -5 0\n"
     ]
    }
   ],
   "source": [
    "\n",
    "# نمونه‌ای از عدد صحیح\n",
    "x = 10\n",
    "y = -5\n",
    "z = 0\n",
    "\n",
    "# نمایش انواع متغیرها\n",
    "print(x, y, z)\n"
   ]
  },
  {
   "cell_type": "markdown",
   "id": "f7255b04",
   "metadata": {},
   "source": [
    "# داده‌نوع `float`"
   ]
  },
  {
   "cell_type": "code",
   "execution_count": 1,
   "id": "b4416814",
   "metadata": {},
   "outputs": [
    {
     "name": "stdout",
     "output_type": "stream",
     "text": [
      "10.5 -5.2 0.0\n"
     ]
    }
   ],
   "source": [
    "\n",
    "# نمونه‌ای از عدد اعشاری\n",
    "a = 10.5\n",
    "b = -5.2\n",
    "c = 0.0\n",
    "\n",
    "# نمایش انواع متغیرها\n",
    "print(a, b, c)\n"
   ]
  },
  {
   "cell_type": "markdown",
   "id": "600f6085",
   "metadata": {},
   "source": [
    "# داده‌نوع `str`"
   ]
  },
  {
   "cell_type": "code",
   "execution_count": 2,
   "id": "98e47c7c",
   "metadata": {},
   "outputs": [
    {
     "name": "stdout",
     "output_type": "stream",
     "text": [
      "Ali\n",
      "سلام، چطور هستید؟\n"
     ]
    }
   ],
   "source": [
    "\n",
    "# نمونه‌ای از رشته\n",
    "name = \"Ali\"\n",
    "greeting = 'سلام، چطور هستید؟'\n",
    "\n",
    "# نمایش رشته‌ها\n",
    "print(name)\n",
    "print(greeting)\n"
   ]
  },
  {
   "cell_type": "markdown",
   "id": "98d226ac",
   "metadata": {},
   "source": [
    "# داده‌نوع `bool`"
   ]
  },
  {
   "cell_type": "code",
   "execution_count": 7,
   "id": "3b3b120f",
   "metadata": {},
   "outputs": [
    {
     "name": "stdout",
     "output_type": "stream",
     "text": [
      "True False\n"
     ]
    }
   ],
   "source": [
    "\n",
    "# نمونه‌ای از بولین\n",
    "is_active = True\n",
    "is_passed = False\n",
    "\n",
    "# نمایش مقادیر\n",
    "print(is_active, is_passed)\n"
   ]
  },
  {
   "cell_type": "markdown",
   "id": "7f2b779e",
   "metadata": {},
   "source": [
    "# تبدیل بین داده‌نوع‌ها"
   ]
  },
  {
   "cell_type": "code",
   "execution_count": 8,
   "id": "5ab2fb36",
   "metadata": {},
   "outputs": [
    {
     "name": "stdout",
     "output_type": "stream",
     "text": [
      "10\n"
     ]
    }
   ],
   "source": [
    "\n",
    "# تبدیل رشته به عدد صحیح\n",
    "num_str = \"10\"\n",
    "num_int = int(num_str)\n",
    "\n",
    "# نمایش نتیجه تبدیل\n",
    "print(num_int)\n"
   ]
  }
 ],
 "metadata": {
  "kernelspec": {
   "display_name": "Python 3",
   "language": "python",
   "name": "python3"
  },
  "language_info": {
   "codemirror_mode": {
    "name": "ipython",
    "version": 3
   },
   "file_extension": ".py",
   "mimetype": "text/x-python",
   "name": "python",
   "nbconvert_exporter": "python",
   "pygments_lexer": "ipython3",
   "version": "3.13.1"
  }
 },
 "nbformat": 4,
 "nbformat_minor": 5
}
